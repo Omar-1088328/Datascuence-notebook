{
 "cells": [
  {
   "cell_type": "markdown",
   "id": "b8b52f82-69a0-4065-bf3f-ffdec97729f9",
   "metadata": {},
   "source": [
    "Some of the commonly used libraries used by Data Scientists include:\r\n",
    "1. pytorch\n",
    "2. numPY\n",
    "3. pandasplot\n",
    "\n"
   ]
  },
  {
   "cell_type": "markdown",
   "id": "47b59868-abf2-4a74-8f85-b9a2b233a34a",
   "metadata": {},
   "source": [
    "|Data Science Tools|\n",
    "|------------------|\n",
    "| jupyter notebook |\n",
    "|R studio          |\n",
    "| apache zeppelin  |"
   ]
  },
  {
   "cell_type": "markdown",
   "id": "c8e4b0bb-7727-47bb-a3a2-9fcabc374482",
   "metadata": {},
   "source": [
    "### Below are a few examples of evaluating arithmetic expressions in Python\n",
    "x = 1+3\n",
    "y = 4\n",
    "z = x+y"
   ]
  },
  {
   "cell_type": "code",
   "execution_count": 5,
   "id": "cb8bb1a1-3f5b-4dbf-9f40-150e9272af59",
   "metadata": {},
   "outputs": [
    {
     "data": {
      "text/plain": [
       "17"
      ]
     },
     "execution_count": 5,
     "metadata": {},
     "output_type": "execute_result"
    }
   ],
   "source": [
    "# This a simple arithmetic expression to mutiply then add integers\n",
    "(3*4)+5"
   ]
  },
  {
   "cell_type": "code",
   "execution_count": 23,
   "id": "059a66bb-71b8-4b68-9778-ad43b6c64b63",
   "metadata": {},
   "outputs": [],
   "source": [
    "#  This will convert 200 minutes to hours by diving by 60"
   ]
  },
  {
   "cell_type": "markdown",
   "id": "95a4d9a4-8b58-4880-9a30-f2fbc5d96f95",
   "metadata": {},
   "source": [
    "In this notebook, Data Science Tools and Ecosystem are summarized.\r\n"
   ]
  },
  {
   "cell_type": "markdown",
   "id": "3d93ad31-1465-4dbd-a16b-e4991ddafd13",
   "metadata": {},
   "source": [
    "**Objectives:**\n",
    "\n",
    "- List popular languages for Data Science\n",
    "- Describe common data science tools and their ecosystems\n",
    "- Provide an overview of development environments used in data science\n",
    "- Demonstrate basic arithmetic operations in code cells\n",
    "- Outline key data science methodologies"
   ]
  },
  {
   "cell_type": "markdown",
   "id": "6b1ffb95-31f1-4648-a0de-cd277724aef6",
   "metadata": {},
   "source": [
    "## Author\n",
    "Omar"
   ]
  },
  {
   "cell_type": "code",
   "execution_count": null,
   "id": "b2cbcd09-a7c0-4b98-a6a3-b8eb2271452a",
   "metadata": {},
   "outputs": [],
   "source": []
  }
 ],
 "metadata": {
  "kernelspec": {
   "display_name": "Python 3 (ipykernel)",
   "language": "python",
   "name": "python3"
  },
  "language_info": {
   "codemirror_mode": {
    "name": "ipython",
    "version": 3
   },
   "file_extension": ".py",
   "mimetype": "text/x-python",
   "name": "python",
   "nbconvert_exporter": "python",
   "pygments_lexer": "ipython3",
   "version": "3.12.4"
  }
 },
 "nbformat": 4,
 "nbformat_minor": 5
}
